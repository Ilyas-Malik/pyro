{
 "cells": [
  {
   "cell_type": "markdown",
   "metadata": {},
   "source": [
    "# Predict a US presidential election using Bayesian optimal polling\n",
    "\n",
    "In this tutorial, we explore the use of optimal experimental design techniques to create an optimal polling strategy to predict the outcome of the US presidential election. We take the 2012 election as our prior and the 2016 election as our test set: we imagine that we are conducting polling just before the 2016 election.\n",
    "\n",
    "## The model\n",
    "For each of the 50 states we define \n",
    "\n",
    "$$ \\text{logit }\\mathbb{P}(\\text{a random voter in state } i \\text{ votes Democrat in the 2016 election}) = \\theta_i $$\n",
    "\n",
    "and we assume all other voters vote Republican. Right before the election, the value of $\\theta$ is unknown and we wish to estimate it using polling. The winner $w$ of the election is decided by the Electoral College system. The number of electoral college votes gained by the Democrats in state $i$ is\n",
    "$$\n",
    "e_i =  \\begin{cases}\n",
    "k_i \\text{ if } \\theta_i > \\frac{1}{2} \\\\\n",
    "0 \\text{ otherwise}\n",
    "\\end{cases}\n",
    "$$\n",
    "(this is a rough approximation of the true system). All other electoral college votes go to the Republicans. Here $k_i$ is the number of electoral college votes alloted to state $i$, which are listed in the following data frame."
   ]
  },
  {
   "cell_type": "code",
   "execution_count": 1,
   "metadata": {},
   "outputs": [
    {
     "name": "stdout",
     "output_type": "stream",
     "text": [
      "       Electoral college votes\n",
      "State                         \n",
      "AL                           9\n",
      "AK                           3\n",
      "AZ                          11\n",
      "AR                           6\n",
      "CA                          55\n",
      "CO                           9\n",
      "CT                           7\n",
      "DE                           3\n",
      "DC                           3\n",
      "FL                          29\n",
      "GA                          16\n",
      "HI                           4\n",
      "ID                           4\n",
      "IL                          20\n",
      "IN                          11\n",
      "IA                           6\n",
      "KS                           6\n",
      "KY                           8\n",
      "LA                           8\n",
      "ME                           4\n",
      "MD                          10\n",
      "MA                          11\n",
      "MI                          16\n",
      "MN                          10\n",
      "MS                           6\n",
      "MO                          10\n",
      "MT                           3\n",
      "NE                           5\n",
      "NV                           6\n",
      "NH                           4\n",
      "NJ                          14\n",
      "NM                           5\n",
      "NY                          29\n",
      "NC                          15\n",
      "ND                           3\n",
      "OH                          18\n",
      "OK                           7\n",
      "OR                           7\n",
      "PA                          20\n",
      "RI                           4\n",
      "SC                           9\n",
      "SD                           3\n",
      "TN                          11\n",
      "TX                          38\n",
      "UT                           6\n",
      "VT                           3\n",
      "VA                          13\n",
      "WA                          12\n",
      "WV                           5\n",
      "WI                          10\n",
      "WY                           3\n"
     ]
    }
   ],
   "source": [
    "import pandas as pd\n",
    "import torch\n",
    "\n",
    "electoral_college_votes = pd.read_pickle(\"electoral_college_votes.pickle\")\n",
    "print(electoral_college_votes)\n",
    "ec_votes_tensor = torch.tensor(electoral_college_votes.values, dtype=torch.float).squeeze()"
   ]
  },
  {
   "cell_type": "markdown",
   "metadata": {},
   "source": [
    "The winner $w$ of the election is\n",
    "\n",
    "$$ w = \\begin{cases}\n",
    "\\text{Democrats if } \\sum_i e_i > \\frac{1}{2}\\sum_i k_i  \\\\\n",
    "\\text{Republicans otherwise}\n",
    "\\end{cases}\n",
    "$$"
   ]
  },
  {
   "cell_type": "markdown",
   "metadata": {},
   "source": [
    "We are interested in polling strategies that will help us predict $w$, rather than predicting the more complex state-by-state results $\\theta$.\n",
    "\n",
    "To set up a fully Bayesian model, we need a prior for $\\theta$. We will base the prior on the outcome of some historical presidential elections. Specifically, we'll use the following dataset of state-by-state election results for the presidential elections 1976-2012 inclusive. Note that votes for parties other than Democrats and Republicans have been ignored."
   ]
  },
  {
   "cell_type": "code",
   "execution_count": 2,
   "metadata": {},
   "outputs": [
    {
     "name": "stdout",
     "output_type": "stream",
     "text": [
      "          1976                1980                1984                1988  \\\n",
      "      Democrat Republican Democrat Republican Democrat Republican Democrat   \n",
      "State                                                                        \n",
      "AL      659170     504070   636730     654192   551899     872849   815576   \n",
      "AK       44058      71555    41842      86112    62007     138377   119251   \n",
      "AZ      295602     418642   246843     529688   333854     681416   702541   \n",
      "AR      499614     268753   398041     403164   338646     534774   466578   \n",
      "CA     3742284    3882244  3083661    4524858  3922519    5467009  5054917   \n",
      "CO      460353     584367   367973     652264   454974     821818   728177   \n",
      "CT      647895     719261   541732     677210   569597     890877   750241   \n",
      "DE      122596     109831   105754     111252   101656     152190   139639   \n",
      "DC      137818      27873   130231      23313   180408      29009    27590   \n",
      "FL     1636000    1469531  1419475    2046951  1448816    2730350  2618885   \n",
      "GA      979409     483743   890733     654168   706628    1068722  1081331   \n",
      "HI      147375     140003   135879     130112   147154     185050   158625   \n",
      "ID      126549     204151   110192     290699   108510     297523   253881   \n",
      "IL     2271295    2364269  1981413    2358049  2086499    2707103  2310939   \n",
      "IN     1014714    1183958   844197    1255656   841481    1377230  1297763   \n",
      "IA      619931     632863   508672     676026   605620     703088   545355   \n",
      "KS      430421     502752   326150     566812   333149     677296   554049   \n",
      "KY      615717     531852   616417     635274   539589     822782   734281   \n",
      "LA      661365     587446   708453     792853   651586    1037299   883702   \n",
      "ME      232279     236320   220974     238522   214515     336500   307131   \n",
      "MD      759612     672661   726161     680606   787935     879918   876167   \n",
      "MA     1429475    1030276  1053802    1057631  1239606    1310936  1194644   \n",
      "MI     1696714    1893742  1661532    1915225  1529638    2251571  1965486   \n",
      "MN     1070440     819395   954174     873241  1036364    1032603   962337   \n",
      "MS      381309     366846   429281     441089   352192     581477   557890   \n",
      "MO      998387     927443   931182    1074181   848583    1274188  1084953   \n",
      "MT      149259     173703   118032     206814   146742     232450   190412   \n",
      "NE      233692     359705   166851     419937   187866     460054   398447   \n",
      "NV       92479     101273    66666     155017    91655     188770   206040   \n",
      "NH      147635     185935   108864     221705   120395     267051   281537   \n",
      "NJ     1444653    1509688  1147364    1546557  1261323    1933630  1743192   \n",
      "NM      201148     211419   167826     250779   201769     307101   270341   \n",
      "NY     3389558    3100791  2728372    2893831  3119609    3664763  3081871   \n",
      "NC      927365     741960   875635     915018   824287    1346481  1237258   \n",
      "ND      136078     153470    79189     193695   104429     200336   166559   \n",
      "OH     2011621    2000505  1752414    2206545  1825440    2678560  2416549   \n",
      "OK      532442     545708   402026     695570   385080     861530   678367   \n",
      "OR      490407     492120   456890     571044   536479     685700   560126   \n",
      "PA     2328677    2205604  1937540    2261872  2228131    2584323  2300087   \n",
      "RI      227636     181249   198342     154793   197106     212080   177761   \n",
      "SC      450825     346140   427560     441207   344470     615539   606443   \n",
      "SD      147068     151505   103855     198343   116113     200267   165415   \n",
      "TN      825879     633969   783051     787761   711714     990212   947233   \n",
      "TX     2082319    1953300  1881147    2510705  1949276    3433428  3036829   \n",
      "UT      182110     337908   124266     439687   155369     469105   428442   \n",
      "VT       81044     102085    81891      94598    95730     135865   124331   \n",
      "VA      813896     836554   752174     989609   796250    1337078  1309162   \n",
      "WA      717323     777732   650193     865244   807352    1051670   903835   \n",
      "WV      435914     314760   367462     334206   328125     405483   310065   \n",
      "WI     1040232    1004987   981584    1088845   995847    1198800  1047499   \n",
      "WY       62239      92717    49427     110700    53370     133241   106867   \n",
      "\n",
      "                     1992                1996                2000             \\\n",
      "      Republican Democrat Republican Democrat Republican Democrat Republican   \n",
      "State                                                                          \n",
      "AL        549506   690080     804283   662165     769044   692611     941173   \n",
      "AK         72584    78294     102000    80380     122746    79004     167398   \n",
      "AZ        454029   543050     572086   653288     622073   685341     781652   \n",
      "AR        349237   505823     337324   475171     325416   422768     472940   \n",
      "CA       4702233  5121325    3630574  5119835    3828380  5861203    4567429   \n",
      "CO        621453   629681     562850   671152     691848   738227     883748   \n",
      "CT        676584   682318     578313   735740     483109   816015     561094   \n",
      "DE        108647   126054     102313   140355      99062   180068     137288   \n",
      "DC        159407   192619      20698   158220      17339   171923      18073   \n",
      "FL       1656701  2072698    2173310  2546870    2244536  2912253    2912790   \n",
      "GA        714792  1008966     995252  1053849    1080843  1116230    1419720   \n",
      "HI        192364   179310     136822   205012     113943   205286     137845   \n",
      "ID        147272   137013     202645   165443     256595   138637     336937   \n",
      "IL       2215940  2453350    1734096  2341744    1587021  2589026    2019421   \n",
      "IN        860643   848420     989375   887424    1006693   901980    1245836   \n",
      "IA        670557   586353     504891   620258     492644   638517     634373   \n",
      "KS        422636   390434     449951   387659     583245   399276     622332   \n",
      "KY        580368   665104     617178   636614     623283   638898     872492   \n",
      "LA        734281   815971     733386   927837     712586   792344     927871   \n",
      "ME        243569   263420     206504   312788     186378   319951     286616   \n",
      "MD        826304   988571     707094   966207     681530  1145782     813797   \n",
      "MA       1401406  1318662     805049  1571763     718107  1616487     878502   \n",
      "MI       1675783  1871182    1554940  1989653    1481212  2170418    1953139   \n",
      "MN       1109471  1020997     747841  1120438     766476  1168266    1109659   \n",
      "MS        363921   400258     487793   394022     439838   404614     572844   \n",
      "MO       1001619  1053873     811159  1025935     890016  1111138    1189924   \n",
      "MT        168936   154507     144207   167922     179652   137126     240178   \n",
      "NE        259646   217344     344346   236761     363467   231780     433862   \n",
      "NV        132738   189148     175828   203974     199244   279978     301575   \n",
      "NH        163696   209040     202484   246214     196532   266348     273559   \n",
      "NJ       1320352  1436206    1356865  1652329    1103078  1788850    1284173   \n",
      "NM        244497   261617     212824   273495     232751   286783     286417   \n",
      "NY       3347882  3444450    2346649  3756177    1933492  4107697    2403374   \n",
      "NC        890167  1114042    1134661  1107849    1225938  1257692    1631163   \n",
      "ND        127739    99168     136244   106905     125050    95284     174852   \n",
      "OH       1939629  1984942    1894310  2148222    1859883  2186190    2351209   \n",
      "OK        483423   473066     592929   488105     582315   474276     744337   \n",
      "OR        616206   621314     475757   649641     538152   720342     713577   \n",
      "PA       2194944  2239164    1791841  2215819    1801169  2485967    2281127   \n",
      "RI        225123   213299     131601   233050     104683   249508     130555   \n",
      "SC        370554   479514     577507   504051     573458   565561     785937   \n",
      "SD        145560   124888     136718   139333     150543   118804     190700   \n",
      "TN        679794   933521     841300   909146     863530   981720    1061949   \n",
      "TX       2352748  2281815    2496071  2459683    2736167  2433746    3799639   \n",
      "UT        207343   183429     322632   221633     361911   203053     515096   \n",
      "VT        115775   133592      88122   137894      80352   149022     119775   \n",
      "VA        859799  1038650    1150517  1091060    1138350  1217290    1437490   \n",
      "WA        933516   993037     731234  1123323     840712  1247652    1108864   \n",
      "WV        341016   331001     241974   327812     233946   295497     336475   \n",
      "WI       1126794  1041066     930855  1071971     845029  1242987    1237279   \n",
      "WY         67113    68160      79347    77934     105388    60481     147947   \n",
      "\n",
      "          2004                2008                2012             \n",
      "      Democrat Republican Democrat Republican Democrat Republican  \n",
      "State                                                              \n",
      "AL      693933    1176394  1266546     813479   795696    1255925  \n",
      "AK      111025     190889   193841     123594   122640     164676  \n",
      "AZ      893524    1104294  1230111    1034707  1025232    1233654  \n",
      "AR      469953     572898   638017     422310   394409     647744  \n",
      "CA     6745485    5509826  5011781    8274473  7854285    4839958  \n",
      "CO     1001732    1101255  1073629    1288633  1323101    1185243  \n",
      "CT      857488     693826   629428     997772   905083     634892  \n",
      "DE      200152     171660   152374     255459   242584     165484  \n",
      "DC      202970      21256    17367     245800   267070      21381  \n",
      "FL     3583544    3964522  4045624    4282074  4237756    4163447  \n",
      "GA     1366149    1914254  2048759    1844123  1773827    2078688  \n",
      "HI      231708     194191   120566     325871   306658     121015  \n",
      "ID      181098     409235   403012     236440   212787     420911  \n",
      "IL     2891550    2345946  2031179    3419348  3019512    2135216  \n",
      "IN      969011    1479438  1345648    1374039  1152887    1420543  \n",
      "IA      741898     751957   682379     828940   822544     730617  \n",
      "KS      434993     736456   699655     514765   440726     692634  \n",
      "KY      712733    1069439  1048462     751985   679370    1087190  \n",
      "LA      820299    1102169  1148275     782989   809141    1152262  \n",
      "ME      396842     330201   295273     421923   401306     292276  \n",
      "MD     1334493    1024703   959862    1629467  1677844     971869  \n",
      "MA     1803800    1071109  1108854    1904097  1921290    1188314  \n",
      "MI     2479183    2313746  2048639    2872579  2564569    2115256  \n",
      "MN     1445014    1346695  1275409    1573354  1546167    1320225  \n",
      "MS      458094     684981   724597     554662   562949     710746  \n",
      "MO     1259171    1455713  1445814    1441911  1223796    1482440  \n",
      "MT      173710     266063   242763     231667   201839     267928  \n",
      "NE      254328     512814   452979     333319   302081     475064  \n",
      "NV      397190     418690   412827     533736   531373     463567  \n",
      "NH      340511     331237   316534     384826   369561     329918  \n",
      "NJ     1911430    1670003  1613207    2215422  2125101    1477568  \n",
      "NM      370942     376930   346832     472422   415335     335788  \n",
      "NY     4314280    2962567  2752771    4804945  4485741    2490431  \n",
      "NC     1525849    1961166  2128474    2142651  2178391    2270395  \n",
      "ND      111052     196651   168601     141278   124827     188163  \n",
      "OH     2741167    2859768  2677820    2940044  2827709    2661437  \n",
      "OK      503966     959792   960165     502496   443547     891325  \n",
      "OR      943163     866831   738475    1037291   970488     754175  \n",
      "PA     2938095    2793847  2655885    3276363  2990274    2680434  \n",
      "RI      259765     169046   165391     296571   279677     157204  \n",
      "SC      661699     937974  1034896     862449   865941    1071645  \n",
      "SD      149244     232584   203054     170924   145039     210610  \n",
      "TN     1036477    1384375  1479178    1087437   960709    1462330  \n",
      "TX     2832704    4526917  4479328    3528633  3308124    4569843  \n",
      "UT      241199     663742   596030     327670   251813     740600  \n",
      "VT      184067     121180    98974     219262   199239      92698  \n",
      "VA     1454742    1716959  1725005    1959532  1971820    1822522  \n",
      "WA     1510201    1304894  1229216    1750848  1755396    1290670  \n",
      "WV      326541     423778   397466     303857   238269     417655  \n",
      "WI     1489504    1478120  1262393    1677211  1620985    1407966  \n",
      "WY       70776     167629   164958      82868    69286     170962  \n"
     ]
    }
   ],
   "source": [
    "frame = pd.read_pickle(\"us_presidential_election_data_historical.pickle\")\n",
    "print(frame)"
   ]
  },
  {
   "cell_type": "markdown",
   "metadata": {},
   "source": [
    "Based on this data alone, we will base our prior mean for $\\theta$ solely on the 2012 election. Specifically, we'll choose a prior mean as follows:"
   ]
  },
  {
   "cell_type": "code",
   "execution_count": 3,
   "metadata": {},
   "outputs": [
    {
     "name": "stdout",
     "output_type": "stream",
     "text": [
      "tensor([-0.4564, -0.2947, -0.1851, -0.4961,  0.4842,  0.1100,  0.3546,  0.3825,\n",
      "         2.5250,  0.0177, -0.1586,  0.9298, -0.6821,  0.3465, -0.2088,  0.1185,\n",
      "        -0.4521, -0.4702, -0.3535,  0.3170,  0.5460,  0.4805,  0.1926,  0.1580,\n",
      "        -0.2331, -0.1917, -0.2832, -0.4528,  0.1365,  0.1135,  0.3634,  0.2126,\n",
      "         0.5884, -0.0414, -0.4104,  0.0606, -0.6979,  0.2522,  0.1094,  0.5761,\n",
      "        -0.2131, -0.3730, -0.4201, -0.3231, -1.0788,  0.7652,  0.0787,  0.3075,\n",
      "        -0.5613,  0.1409, -0.9032])\n"
     ]
    }
   ],
   "source": [
    "results_2012 = torch.tensor(frame[2012].values, dtype=torch.float)\n",
    "prior_mean = torch.log(results_2012[..., 0] / results_2012[..., 1])\n",
    "print(prior_mean)"
   ]
  },
  {
   "cell_type": "markdown",
   "metadata": {},
   "source": [
    "Our prior distribution for $\\theta$ will be a multivariate Normal with mean `prior_mean`. The only thing left to decide upon is the covariance matrix.\n",
    "\n",
    "*Aside*: The prior covariance is important in a number of ways. If we allow too much variance, the prior will be uncertain about the outcome in every state, and require polling everywhere. If we allow too little variance, we may be caught off-guard by an unexpected electoral outcome. If we assume states are independent, then we will not be able to pool information across states; but assume too much correlation and we could too faithfully base predictions about one state from poll results in another."
   ]
  },
  {
   "cell_type": "markdown",
   "metadata": {},
   "source": [
    "We select the prior covariance by taking the empirical covariance from the elections 1976 - 2012 and adding a small value `0.01` to the diagonal."
   ]
  },
  {
   "cell_type": "code",
   "execution_count": 4,
   "metadata": {},
   "outputs": [],
   "source": [
    "idx = 2 * torch.arange(10)\n",
    "as_tensor = torch.tensor(frame.values, dtype=torch.float)\n",
    "logits = torch.log(as_tensor[..., idx] / as_tensor[..., idx + 1]).transpose(0, 1)\n",
    "mean = logits.mean(0)\n",
    "sample_covariance = (1/(logits.shape[0] - 1)) * (\n",
    "    (logits.unsqueeze(-1) - mean) * (logits.unsqueeze(-2) - mean)\n",
    ").sum(0)\n",
    "prior_covariance = sample_covariance + 0.01 * torch.eye(sample_covariance.shape[0])\n",
    "prior_scale_tril = prior_covariance.cholesky()"
   ]
  },
  {
   "cell_type": "markdown",
   "metadata": {},
   "source": [
    "We are now in a position to define our Bayesian model."
   ]
  },
  {
   "cell_type": "code",
   "execution_count": 5,
   "metadata": {},
   "outputs": [],
   "source": [
    "from contextlib import ExitStack\n",
    "\n",
    "import pyro\n",
    "import pyro.distributions as dist\n",
    "from pyro.contrib.util import iter_plates_to_shape\n",
    "\n",
    "def model(polling_allocation):\n",
    "    with ExitStack() as stack:\n",
    "        for plate in iter_plates_to_shape(polling_allocation.shape[:-1]):\n",
    "            stack.enter_context(plate)\n",
    "        theta = pyro.sample(\"theta\", dist.MultivariateNormal(prior_mean, scale_tril=prior_scale_tril))\n",
    "        poll_results = pyro.sample(\"y\", dist.Binomial(polling_allocation, logits=theta).to_event(1))\n",
    "        dem_win_state = (theta > 0.).float()\n",
    "        dem_electoral_college_votes = ec_votes_tensor * dem_win_state\n",
    "        dem_win = dem_electoral_college_votes.sum(-1) / ec_votes_tensor.sum(-1) > .5\n",
    "        pyro.sample(\"w\", dist.Delta(dem_win))\n",
    "        return poll_results, dem_win, theta"
   ]
  },
  {
   "cell_type": "markdown",
   "metadata": {},
   "source": [
    "This Bayesian model implicitly defines our prior on `w`. We can investigate this prior by simulating many times from our prior."
   ]
  },
  {
   "cell_type": "code",
   "execution_count": 6,
   "metadata": {},
   "outputs": [
    {
     "name": "stdout",
     "output_type": "stream",
     "text": [
      "Prior probability of Dem win 0.6632699966430664\n"
     ]
    }
   ],
   "source": [
    "_, dem_wins, theta = model(torch.ones(100000, 51))\n",
    "print(\"Prior probability of Dem win\", dem_wins.float().mean().item())"
   ]
  },
  {
   "cell_type": "markdown",
   "metadata": {},
   "source": [
    "We can also investigate which states, a priori, are most marginal."
   ]
  },
  {
   "cell_type": "code",
   "execution_count": 7,
   "metadata": {},
   "outputs": [
    {
     "name": "stdout",
     "output_type": "stream",
     "text": [
      "       Democrat win probability\n",
      "State                          \n",
      "FL                      0.52522\n",
      "NC                      0.43683\n",
      "NH                      0.60733\n",
      "VA                      0.61833\n",
      "OH                      0.61965\n",
      "NV                      0.63383\n",
      "CO                      0.65049\n",
      "GA                      0.33434\n",
      "AZ                      0.31515\n",
      "IA                      0.72432\n",
      "PA                      0.72606\n",
      "AK                      0.26909\n",
      "SC                      0.26636\n",
      "MS                      0.22903\n",
      "IN                      0.22865\n",
      "MN                      0.77255\n",
      "WI                      0.77484\n",
      "MI                      0.77589\n",
      "NM                      0.79073\n",
      "MO                      0.19223\n",
      "NE                      0.16571\n",
      "MT                      0.16114\n",
      "ME                      0.84038\n",
      "CT                      0.84729\n",
      "TX                      0.14983\n",
      "ND                      0.14646\n",
      "OR                      0.85830\n",
      "IL                      0.86067\n",
      "MA                      0.86847\n",
      "WA                      0.86871\n",
      "NJ                      0.86944\n",
      "LA                      0.12142\n",
      "ID                      0.12050\n",
      "DE                      0.88066\n",
      "SD                      0.11556\n",
      "AL                      0.11411\n",
      "AR                      0.11203\n",
      "KS                      0.10633\n",
      "RI                      0.90113\n",
      "DC                      0.91329\n",
      "CA                      0.91376\n",
      "OK                      0.07557\n",
      "TN                      0.07519\n",
      "NY                      0.92518\n",
      "WY                      0.06693\n",
      "KY                      0.06625\n",
      "UT                      0.06513\n",
      "VT                      0.94265\n",
      "MD                      0.95527\n",
      "WV                      0.04230\n",
      "HI                      0.95960\n"
     ]
    }
   ],
   "source": [
    "dem_prob = (theta > 0.).float().mean(0)\n",
    "marginal = torch.argsort((dem_prob - .5).abs()).numpy()\n",
    "prior_prob_dem = pd.DataFrame({\"State\": frame.index[marginal],\n",
    "                               \"Democrat win probability\": dem_prob.numpy()[marginal]}).set_index('State')\n",
    "print(prior_prob_dem)"
   ]
  },
  {
   "cell_type": "markdown",
   "metadata": {},
   "source": [
    "This is a sanity check, and seems to accord with our intuitions. Since our prior is based on 2012 and the Democrats won in 2012, it makes sense that we would favour a Democrat win in 2016 (this is before we have seen *any* polling data or incorporated any other information). Florida is frequently an important swing state and is top of our list of marginal states under the prior. We can also see states such as Pennsylvania and Wisconsin near the top of the list -- we know that these were instrumental in the 2016 election. (This kind of posthoc analysis is, of course, very bad and only engaged in by immoral persons.)"
   ]
  },
  {
   "cell_type": "markdown",
   "metadata": {},
   "source": [
    "### Regional correlations\n",
    "\n",
    "Finally, we take a closer look at our prior covariance. Specifically, we examine states that we expect to be more or less correlated."
   ]
  },
  {
   "cell_type": "code",
   "execution_count": 8,
   "metadata": {},
   "outputs": [
    {
     "name": "stdout",
     "output_type": "stream",
     "text": [
      "State        ME        VT        NH        MA        RI        CT\n",
      "State                                                            \n",
      "ME     1.000000  0.819736  0.708824  0.691700  0.670969  0.843993\n",
      "VT     0.819736  1.000000  0.519503  0.797010  0.799352  0.855304\n",
      "NH     0.708824  0.519503  1.000000  0.301555  0.195725  0.662055\n",
      "MA     0.691700  0.797010  0.301555  1.000000  0.918948  0.788008\n",
      "RI     0.670969  0.799352  0.195725  0.918948  1.000000  0.761820\n",
      "CT     0.843993  0.855304  0.662055  0.788008  0.761820  1.000000\n"
     ]
    }
   ],
   "source": [
    "import numpy as np\n",
    "\n",
    "\n",
    "def correlation(cov):\n",
    "    return cov / np.sqrt(np.expand_dims(np.diag(cov.values), 0) * np.expand_dims(np.diag(cov.values), 1))\n",
    "                \n",
    "\n",
    "new_england_states = ['ME', 'VT', 'NH', 'MA', 'RI', 'CT']\n",
    "cov_as_frame = pd.DataFrame(prior_covariance.numpy(), columns=frame.index).set_index(frame.index)\n",
    "ne_cov = cov_as_frame.loc[new_england_states, new_england_states]\n",
    "ne_corr = correlation(ne_cov)\n",
    "print(ne_corr)"
   ]
  },
  {
   "cell_type": "code",
   "execution_count": 9,
   "metadata": {},
   "outputs": [
    {
     "name": "stdout",
     "output_type": "stream",
     "text": [
      "State        LA        MS        AL        GA        SC\n",
      "State                                                  \n",
      "LA     1.000000  0.702031  0.756532  0.558173  0.669294\n",
      "MS     0.702031  1.000000  0.856342  0.707460  0.871555\n",
      "AL     0.756532  0.856342  1.000000  0.761144  0.844517\n",
      "GA     0.558173  0.707460  0.761144  1.000000  0.809025\n",
      "SC     0.669294  0.871555  0.844517  0.809025  1.000000\n"
     ]
    }
   ],
   "source": [
    "southern_states = ['LA', 'MS', 'AL', 'GA', 'SC']\n",
    "southern_cov = cov_as_frame.loc[southern_states, southern_states]\n",
    "southern_corr = correlation(southern_cov)\n",
    "print(southern_corr)"
   ]
  },
  {
   "cell_type": "markdown",
   "metadata": {},
   "source": [
    "These correlation matrices show that, as expected, logical groupings of states tend to have similar voting trends."
   ]
  },
  {
   "cell_type": "code",
   "execution_count": 10,
   "metadata": {},
   "outputs": [
    {
     "name": "stdout",
     "output_type": "stream",
     "text": [
      "State        LA        MS        AL        GA        SC\n",
      "State                                                  \n",
      "ME     0.143958  0.018036 -0.172994  0.032646  0.093751\n",
      "VT    -0.266697 -0.352180 -0.560951 -0.294640 -0.279492\n",
      "NH     0.381440  0.358118  0.180448  0.117459  0.397982\n",
      "MA    -0.216447 -0.520811 -0.572776 -0.263084 -0.400615\n",
      "RI    -0.266150 -0.531253 -0.602058 -0.265214 -0.433672\n",
      "CT    -0.044753 -0.193657 -0.360299 -0.178306 -0.111733\n"
     ]
    }
   ],
   "source": [
    "cross_cov = cov_as_frame.loc[new_england_states + southern_states, new_england_states + southern_states]\n",
    "cross_corr = correlation(cross_cov)\n",
    "print(cross_corr.loc[new_england_states, southern_states])"
   ]
  },
  {
   "cell_type": "markdown",
   "metadata": {},
   "source": [
    "Finally, to check the data that led to these values, here is a scatter plot comparing Alabama with 1) South Carolina, 2) Connecticut"
   ]
  },
  {
   "cell_type": "code",
   "execution_count": 14,
   "metadata": {},
   "outputs": [
    {
     "data": {
      "image/png": "[encoded data removed]",
      "text/plain": [
       "<Figure size 432x288 with 1 Axes>"
      ]
     },
     "metadata": {
      "needs_background": "light"
     },
     "output_type": "display_data"
    }
   ],
   "source": [
    "import matplotlib.pyplot as plt\n",
    "\n",
    "data = (logits - mean)[...,[0,6,40]].numpy()\n",
    "x, y = data[..., 0], data[..., 2]\n",
    "plt.scatter(x, y)\n",
    "plt.xlabel(\"AL\")\n",
    "plt.ylabel(\"SC\")\n",
    "plt.show()"
   ]
  },
  {
   "cell_type": "code",
   "execution_count": 12,
   "metadata": {},
   "outputs": [
    {
     "data": {
      "image/png": "[encoded data removed]",
      "text/plain": [
       "<Figure size 432x288 with 1 Axes>"
      ]
     },
     "metadata": {
      "needs_background": "light"
     },
     "output_type": "display_data"
    }
   ],
   "source": [
    "x, y = data[..., 0], data[..., 1]\n",
    "plt.scatter(x, y)\n",
    "plt.xlabel(\"AL\")\n",
    "plt.ylabel(\"CT\")\n",
    "plt.show()"
   ]
  },
  {
   "cell_type": "markdown",
   "metadata": {},
   "source": [
    "## Measuring the expected information gain of a polling strategy\n",
    "The prior we have set up appears to accord, at least approximately, with intuition. However, we now want to add a second source of information from polling. We aim to use our prior to select a polling strategy that will be most informative about our target $w$. A polling strategy, in this simplified set-up, is the number of people to poll in each state. (We ignore any other covariates such as regional variation inside states, demographics, etc.) We might imagine that polling 1000 people in Florida (the most marginal state), will be much more effective than polling 1000 people in Hawaii (the least marginal state). That's because the outcome in Hawaii is already quite predictable, just based on our prior, whereas the outcome in Florida is really up for grabs.\n",
    "\n",
    "In fact, the information that our model will gain about $w$ based on conducting a poll with design $d$ and getting outcome $y$ can be described mathematically as follows:\n",
    "\n",
    "$$\\text(IG)(d, y) = KL(p(w|y,d)||p(w))$$\n",
    "\n",
    "Since the outcome of the poll is at present unknown, we consider the expected information gain\n",
    "\n",
    "$$\\text{EIG}(d) = \\mathbb{E}_{p(y|d)}\\quad[KL(p(w|y,d)||p(w))]$$.\n",
    "\n",
    "To estimate the EIG, we make use of the following variational representation\n",
    "\n",
    "$$\\text{EIG}(d) = \\max_q \\mathbb{E}_{p(w, y|d)}\\quad\\left[\\log q(w|y,d) \\right] + H(p(w))$$\n",
    "\n",
    "What is $q$? It is a machine that takes as input $y$ and outputs a distribution over $w$. Since $w$ is a binary random variable, we can think of $q$ as a classifier that tries to decide, based on the poll outcome, who the eventual winner of the election will be. In this notebook, $q$ will be a neural classifier."
   ]
  },
  {
   "cell_type": "code",
   "execution_count": 13,
   "metadata": {},
   "outputs": [
    {
     "ename": "SyntaxError",
     "evalue": "invalid syntax (<ipython-input-13-4fd0aa0c0002>, line 16)",
     "output_type": "error",
     "traceback": [
      "\u001b[0;36m  File \u001b[0;32m\"<ipython-input-13-4fd0aa0c0002>\"\u001b[0;36m, line \u001b[0;32m16\u001b[0m\n\u001b[0;31m    def forward(self, )\u001b[0m\n\u001b[0m                       ^\u001b[0m\n\u001b[0;31mSyntaxError\u001b[0m\u001b[0;31m:\u001b[0m invalid syntax\n"
     ]
    }
   ],
   "source": [
    "from torch import nn\n",
    "\n",
    "class OutcomePredictor(nn.Module):\n",
    "    \n",
    "    def __init__(self):\n",
    "        super().__init__()\n",
    "        self.lin1 = nn.Linear(51, 256)\n",
    "        self.lin2 = nn.Linear(256, 256)\n",
    "        self.lin3 = nn.Linear(256, 1)\n",
    "        \n",
    "    def compute_dem_probability(self, y):\n",
    "        y = F.relu(self.lin1(y))\n",
    "        y = F.relu(self.lin2(y))\n",
    "        return self.lin3(y)\n",
    "    \n",
    "    def forward(self, )"
   ]
  },
  {
   "cell_type": "code",
   "execution_count": null,
   "metadata": {},
   "outputs": [],
   "source": []
  }
 ],
 "metadata": {
  "kernelspec": {
   "display_name": "Python 3",
   "language": "python",
   "name": "python3"
  },
  "language_info": {
   "codemirror_mode": {
    "name": "ipython",
    "version": 3
   },
   "file_extension": ".py",
   "mimetype": "text/x-python",
   "name": "python",
   "nbconvert_exporter": "python",
   "pygments_lexer": "ipython3",
   "version": "3.5.2"
  }
 },
 "nbformat": 4,
 "nbformat_minor": 2
}
