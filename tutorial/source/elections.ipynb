{
 "cells": [
  {
   "cell_type": "markdown",
   "metadata": {},
   "source": [
    "# Predict a US presidential election using Bayesian optimal polling\n",
    "\n",
    "In this tutorial, we explore the use of optimal experimental design techniques to create an optimal polling strategy to predict the outcome of the US presidential election. We take the 2012 election as our prior and the 2016 election as our test set: we imagine that we are conducting polling just before the 2016 election.\n",
    "\n",
    "## The model\n",
    "For each of the 50 states we define \n",
    "\n",
    "$$ \\text{logit }\\mathbb{P}(\\text{a random voter in state } i \\text{ votes Democrat in the 2016 election}) = \\theta_i $$\n",
    "\n",
    "and we assume all other voters vote Republican. Right before the election, the value of $\\theta$ is unknown and we wish to estimate it using polling. The winner $w$ of the election is decided by the Electoral College system. The number of electoral college votes gained by the Democrats in state $i$ is\n",
    "$$\n",
    "e_i =  \\begin{cases}\n",
    "k_i \\text{ if } \\theta_i > \\frac{1}{2} \\\\\n",
    "0 \\text{ otherwise}\n",
    "\\end{cases}\n",
    "$$\n",
    "(this is a rough approximation of the true system). All other electoral college votes go to the Republicans. Here $k_i$ is the number of electoral college votes alloted to state $i$, which are listed in the following data frame."
   ]
  },
  {
   "cell_type": "code",
   "execution_count": 1,
   "metadata": {},
   "outputs": [
    {
     "name": "stdout",
     "output_type": "stream",
     "text": [
      "       Electoral college votes\n",
      "State                         \n",
      "AL                           9\n",
      "AK                           3\n",
      "AZ                          11\n",
      "AR                           6\n",
      "CA                          55\n",
      "CO                           9\n",
      "CT                           7\n",
      "DE                           3\n",
      "DC                           3\n",
      "FL                          29\n",
      "GA                          16\n",
      "HI                           4\n",
      "ID                           4\n",
      "IL                          20\n",
      "IN                          11\n",
      "IA                           6\n",
      "KS                           6\n",
      "KY                           8\n",
      "LA                           8\n",
      "ME                           4\n",
      "MD                          10\n",
      "MA                          11\n",
      "MI                          16\n",
      "MN                          10\n",
      "MS                           6\n",
      "MO                          10\n",
      "MT                           3\n",
      "NE                           5\n",
      "NV                           6\n",
      "NH                           4\n",
      "NJ                          14\n",
      "NM                           5\n",
      "NY                          29\n",
      "NC                          15\n",
      "ND                           3\n",
      "OH                          18\n",
      "OK                           7\n",
      "OR                           7\n",
      "PA                          20\n",
      "RI                           4\n",
      "SC                           9\n",
      "SD                           3\n",
      "TN                          11\n",
      "TX                          38\n",
      "UT                           6\n",
      "VT                           3\n",
      "VA                          13\n",
      "WA                          12\n",
      "WV                           5\n",
      "WI                          10\n",
      "WY                           3\n"
     ]
    }
   ],
   "source": [
    "import pandas as pd\n",
    "import torch\n",
    "\n",
    "electoral_college_votes = pd.read_pickle(\"electoral_college_votes.pickle\")\n",
    "print(electoral_college_votes)\n",
    "ec_votes_tensor = torch.tensor(electoral_college_votes.values, dtype=torch.float).squeeze()"
   ]
  },
  {
   "cell_type": "markdown",
   "metadata": {},
   "source": [
    "The winner $w$ of the election is\n",
    "\n",
    "$$ w = \\begin{cases}\n",
    "\\text{Democrats if } \\sum_i e_i > \\frac{1}{2}\\sum_i k_i  \\\\\n",
    "\\text{Republicans otherwise}\n",
    "\\end{cases}\n",
    "$$"
   ]
  },
  {
   "cell_type": "markdown",
   "metadata": {},
   "source": [
    "We are interested in polling strategies that will help us predict $w$, rather than predicting the more complex state-by-state results $\\theta$.\n",
    "\n",
    "To set up a fully Bayesian model, we need a prior for $\\theta$. We will base the prior on the outcome of some historical presidential elections. Specifically, we'll use the following dataset of state-by-state election results for the presidential elections 1976-2012 inclusive. Note that votes for parties other than Democrats and Republicans have been ignored."
   ]
  },
  {
   "cell_type": "code",
   "execution_count": 2,
   "metadata": {},
   "outputs": [
    {
     "name": "stdout",
     "output_type": "stream",
     "text": [
      "          1976                1980                1984                1988  \\\n",
      "      Democrat Republican Democrat Republican Democrat Republican Democrat   \n",
      "State                                                                        \n",
      "AL      659170     504070   636730     654192   551899     872849   549506   \n",
      "AK       44058      71555    41842      86112    62007     138377    72584   \n",
      "AZ      295602     418642   246843     529688   333854     681416   454029   \n",
      "AR      499614     268753   398041     403164   338646     534774   349237   \n",
      "CA     3742284    3882244  3083661    4524858  3922519    5467009  4702233   \n",
      "CO      460353     584367   367973     652264   454974     821818   621453   \n",
      "CT      647895     719261   541732     677210   569597     890877   676584   \n",
      "DE      122596     109831   105754     111252   101656     152190   108647   \n",
      "DC      137818      27873   130231      23313   180408      29009   159407   \n",
      "FL     1636000    1469531  1419475    2046951  1448816    2730350  1656701   \n",
      "GA      979409     483743   890733     654168   706628    1068722   714792   \n",
      "HI      147375     140003   135879     130112   147154     185050   192364   \n",
      "ID      126549     204151   110192     290699   108510     297523   147272   \n",
      "IL     2271295    2364269  1981413    2358049  2086499    2707103  2215940   \n",
      "IN     1014714    1183958   844197    1255656   841481    1377230   860643   \n",
      "IA      619931     632863   508672     676026   605620     703088   670557   \n",
      "KS      430421     502752   326150     566812   333149     677296   422636   \n",
      "KY      615717     531852   616417     635274   539589     822782   580368   \n",
      "LA      661365     587446   708453     792853   651586    1037299   734281   \n",
      "ME      232279     236320   220974     238522   214515     336500   243569   \n",
      "MD      759612     672661   726161     680606   787935     879918   826304   \n",
      "MA     1429475    1030276  1053802    1057631  1239606    1310936  1401406   \n",
      "MI     1696714    1893742  1661532    1915225  1529638    2251571  1675783   \n",
      "MN     1070440     819395   954174     873241  1036364    1032603  1109471   \n",
      "MS      381309     366846   429281     441089   352192     581477   363921   \n",
      "MO      998387     927443   931182    1074181   848583    1274188  1001619   \n",
      "MT      149259     173703   118032     206814   146742     232450   168936   \n",
      "NE      233692     359705   166851     419937   187866     460054   259646   \n",
      "NV       92479     101273    66666     155017    91655     188770   132738   \n",
      "NH      147635     185935   108864     221705   120395     267051   163696   \n",
      "NJ     1444653    1509688  1147364    1546557  1261323    1933630  1320352   \n",
      "NM      201148     211419   167826     250779   201769     307101   244497   \n",
      "NY     3389558    3100791  2728372    2893831  3119609    3664763  3347882   \n",
      "NC      927365     741960   875635     915018   824287    1346481   890167   \n",
      "ND      136078     153470    79189     193695   104429     200336   127739   \n",
      "OH     2011621    2000505  1752414    2206545  1825440    2678560  1939629   \n",
      "OK      532442     545708   402026     695570   385080     861530   483423   \n",
      "OR      490407     492120   456890     571044   536479     685700   616206   \n",
      "PA     2328677    2205604  1937540    2261872  2228131    2584323  2194944   \n",
      "RI      227636     181249   198342     154793   197106     212080   225123   \n",
      "SC      450825     346140   427560     441207   344470     615539   370554   \n",
      "SD      147068     151505   103855     198343   116113     200267   145560   \n",
      "TN      825879     633969   783051     787761   711714     990212   679794   \n",
      "TX     2082319    1953300  1881147    2510705  1949276    3433428  2352748   \n",
      "UT      182110     337908   124266     439687   155369     469105   207343   \n",
      "VT       81044     102085    81891      94598    95730     135865   115775   \n",
      "VA      813896     836554   752174     989609   796250    1337078   859799   \n",
      "WA      717323     777732   650193     865244   807352    1051670   933516   \n",
      "WV      435914     314760   367462     334206   328125     405483   341016   \n",
      "WI     1040232    1004987   981584    1088845   995847    1198800  1126794   \n",
      "WY       62239      92717    49427     110700    53370     133241    67113   \n",
      "\n",
      "                     1992                1996                2000             \\\n",
      "      Republican Democrat Republican Democrat Republican Democrat Republican   \n",
      "State                                                                          \n",
      "AL        815576   690080     804283   662165     769044   692611     941173   \n",
      "AK        119251    78294     102000    80380     122746    79004     167398   \n",
      "AZ        702541   543050     572086   653288     622073   685341     781652   \n",
      "AR        466578   505823     337324   475171     325416   422768     472940   \n",
      "CA       5054917  5121325    3630574  5119835    3828380  5861203    4567429   \n",
      "CO        728177   629681     562850   671152     691848   738227     883748   \n",
      "CT        750241   682318     578313   735740     483109   816015     561094   \n",
      "DE        139639   126054     102313   140355      99062   180068     137288   \n",
      "DC         27590   192619      20698   158220      17339   171923      18073   \n",
      "FL       2618885  2072698    2173310  2546870    2244536  2912253    2912790   \n",
      "GA       1081331  1008966     995252  1053849    1080843  1116230    1419720   \n",
      "HI        158625   179310     136822   205012     113943   205286     137845   \n",
      "ID        253881   137013     202645   165443     256595   138637     336937   \n",
      "IL       2310939  2453350    1734096  2341744    1587021  2589026    2019421   \n",
      "IN       1297763   848420     989375   887424    1006693   901980    1245836   \n",
      "IA        545355   586353     504891   620258     492644   638517     634373   \n",
      "KS        554049   390434     449951   387659     583245   399276     622332   \n",
      "KY        734281   665104     617178   636614     623283   638898     872492   \n",
      "LA        883702   815971     733386   927837     712586   792344     927871   \n",
      "ME        307131   263420     206504   312788     186378   319951     286616   \n",
      "MD        876167   988571     707094   966207     681530  1145782     813797   \n",
      "MA       1194644  1318662     805049  1571763     718107  1616487     878502   \n",
      "MI       1965486  1871182    1554940  1989653    1481212  2170418    1953139   \n",
      "MN        962337  1020997     747841  1120438     766476  1168266    1109659   \n",
      "MS        557890   400258     487793   394022     439838   404614     572844   \n",
      "MO       1084953  1053873     811159  1025935     890016  1111138    1189924   \n",
      "MT        190412   154507     144207   167922     179652   137126     240178   \n",
      "NE        398447   217344     344346   236761     363467   231780     433862   \n",
      "NV        206040   189148     175828   203974     199244   279978     301575   \n",
      "NH        281537   209040     202484   246214     196532   266348     273559   \n",
      "NJ       1743192  1436206    1356865  1652329    1103078  1788850    1284173   \n",
      "NM        270341   261617     212824   273495     232751   286783     286417   \n",
      "NY       3081871  3444450    2346649  3756177    1933492  4107697    2403374   \n",
      "NC       1237258  1114042    1134661  1107849    1225938  1257692    1631163   \n",
      "ND        166559    99168     136244   106905     125050    95284     174852   \n",
      "OH       2416549  1984942    1894310  2148222    1859883  2186190    2351209   \n",
      "OK        678367   473066     592929   488105     582315   474276     744337   \n",
      "OR        560126   621314     475757   649641     538152   720342     713577   \n",
      "PA       2300087  2239164    1791841  2215819    1801169  2485967    2281127   \n",
      "RI        177761   213299     131601   233050     104683   249508     130555   \n",
      "SC        606443   479514     577507   504051     573458   565561     785937   \n",
      "SD        165415   124888     136718   139333     150543   118804     190700   \n",
      "TN        947233   933521     841300   909146     863530   981720    1061949   \n",
      "TX       3036829  2281815    2496071  2459683    2736167  2433746    3799639   \n",
      "UT        428442   183429     322632   221633     361911   203053     515096   \n",
      "VT        124331   133592      88122   137894      80352   149022     119775   \n",
      "VA       1309162  1038650    1150517  1091060    1138350  1217290    1437490   \n",
      "WA        903835   993037     731234  1123323     840712  1247652    1108864   \n",
      "WV        310065   331001     241974   327812     233946   295497     336475   \n",
      "WI       1047499  1041066     930855  1071971     845029  1242987    1237279   \n",
      "WY        106867    68160      79347    77934     105388    60481     147947   \n",
      "\n",
      "          2004                2008                2012             \n",
      "      Democrat Republican Democrat Republican Democrat Republican  \n",
      "State                                                              \n",
      "AL      693933    1176394   813479    1266546   795696    1255925  \n",
      "AK      111025     190889   123594     193841   122640     164676  \n",
      "AZ      893524    1104294  1034707    1230111  1025232    1233654  \n",
      "AR      469953     572898   422310     638017   394409     647744  \n",
      "CA     6745485    5509826  8274473    5011781  7854285    4839958  \n",
      "CO     1001732    1101255  1288633    1073629  1323101    1185243  \n",
      "CT      857488     693826   997772     629428   905083     634892  \n",
      "DE      200152     171660   255459     152374   242584     165484  \n",
      "DC      202970      21256   245800      17367   267070      21381  \n",
      "FL     3583544    3964522  4282074    4045624  4237756    4163447  \n",
      "GA     1366149    1914254  1844123    2048759  1773827    2078688  \n",
      "HI      231708     194191   325871     120566   306658     121015  \n",
      "ID      181098     409235   236440     403012   212787     420911  \n",
      "IL     2891550    2345946  3419348    2031179  3019512    2135216  \n",
      "IN      969011    1479438  1374039    1345648  1152887    1420543  \n",
      "IA      741898     751957   828940     682379   822544     730617  \n",
      "KS      434993     736456   514765     699655   440726     692634  \n",
      "KY      712733    1069439   751985    1048462   679370    1087190  \n",
      "LA      820299    1102169   782989    1148275   809141    1152262  \n",
      "ME      396842     330201   421923     295273   401306     292276  \n",
      "MD     1334493    1024703  1629467     959862  1677844     971869  \n",
      "MA     1803800    1071109  1904097    1108854  1921290    1188314  \n",
      "MI     2479183    2313746  2872579    2048639  2564569    2115256  \n",
      "MN     1445014    1346695  1573354    1275409  1546167    1320225  \n",
      "MS      458094     684981   554662     724597   562949     710746  \n",
      "MO     1259171    1455713  1441911    1445814  1223796    1482440  \n",
      "MT      173710     266063   231667     242763   201839     267928  \n",
      "NE      254328     512814   333319     452979   302081     475064  \n",
      "NV      397190     418690   533736     412827   531373     463567  \n",
      "NH      340511     331237   384826     316534   369561     329918  \n",
      "NJ     1911430    1670003  2215422    1613207  2125101    1477568  \n",
      "NM      370942     376930   472422     346832   415335     335788  \n",
      "NY     4314280    2962567  4804945    2752771  4485741    2490431  \n",
      "NC     1525849    1961166  2142651    2128474  2178391    2270395  \n",
      "ND      111052     196651   141278     168601   124827     188163  \n",
      "OH     2741167    2859768  2940044    2677820  2827709    2661437  \n",
      "OK      503966     959792   502496     960165   443547     891325  \n",
      "OR      943163     866831  1037291     738475   970488     754175  \n",
      "PA     2938095    2793847  3276363    2655885  2990274    2680434  \n",
      "RI      259765     169046   296571     165391   279677     157204  \n",
      "SC      661699     937974   862449    1034896   865941    1071645  \n",
      "SD      149244     232584   170924     203054   145039     210610  \n",
      "TN     1036477    1384375  1087437    1479178   960709    1462330  \n",
      "TX     2832704    4526917  3528633    4479328  3308124    4569843  \n",
      "UT      241199     663742   327670     596030   251813     740600  \n",
      "VT      184067     121180   219262      98974   199239      92698  \n",
      "VA     1454742    1716959  1959532    1725005  1971820    1822522  \n",
      "WA     1510201    1304894  1750848    1229216  1755396    1290670  \n",
      "WV      326541     423778   303857     397466   238269     417655  \n",
      "WI     1489504    1478120  1677211    1262393  1620985    1407966  \n",
      "WY       70776     167629    82868     164958    69286     170962  \n"
     ]
    }
   ],
   "source": [
    "frame = pd.read_pickle(\"us_presidential_election_data_historical.pickle\")\n",
    "print(frame)"
   ]
  },
  {
   "cell_type": "markdown",
   "metadata": {},
   "source": [
    "Based on this data alone, we will base our prior mean for $\\theta$ solely on the 2012 election. Specifically, we'll choose a prior mean as follows:"
   ]
  },
  {
   "cell_type": "code",
   "execution_count": 3,
   "metadata": {},
   "outputs": [
    {
     "name": "stdout",
     "output_type": "stream",
     "text": [
      "tensor([-0.4564, -0.2947, -0.1851, -0.4961,  0.4842,  0.1100,  0.3546,  0.3825,\n",
      "         2.5250,  0.0177, -0.1586,  0.9298, -0.6821,  0.3465, -0.2088,  0.1185,\n",
      "        -0.4521, -0.4702, -0.3535,  0.3170,  0.5460,  0.4805,  0.1926,  0.1580,\n",
      "        -0.2331, -0.1917, -0.2832, -0.4528,  0.1365,  0.1135,  0.3634,  0.2126,\n",
      "         0.5884, -0.0414, -0.4104,  0.0606, -0.6979,  0.2522,  0.1094,  0.5761,\n",
      "        -0.2131, -0.3730, -0.4201, -0.3231, -1.0788,  0.7652,  0.0787,  0.3075,\n",
      "        -0.5613,  0.1409, -0.9032])\n"
     ]
    }
   ],
   "source": [
    "results_2012 = torch.tensor(frame[2012].values, dtype=torch.float)\n",
    "prior_mean = torch.log(results_2012[..., 0] / results_2012[..., 1])\n",
    "print(prior_mean)"
   ]
  },
  {
   "cell_type": "markdown",
   "metadata": {},
   "source": [
    "Our prior distribution for $\\theta$ will be a multivariate Normal with mean `prior_mean`. The only thing left to decide upon is the covariance matrix.\n",
    "\n",
    "*Aside*: The prior covariance is important in a number of ways. If we allow too much variance, the prior will be uncertain about the outcome in every state, and require polling everywhere. If we allow too little variance, we may be caught off-guard by an unexpected electoral outcome. If we assume states are independent, then we will not be able to pool information across states; but assume too much correlation and we could too faithfully base predictions about one state from poll results in another."
   ]
  },
  {
   "cell_type": "markdown",
   "metadata": {},
   "source": [
    "We select the prior covariance by taking the empirical covariance from the elections 1976 - 2012 and adding a small value `0.01` to the diagonal."
   ]
  },
  {
   "cell_type": "code",
   "execution_count": 4,
   "metadata": {},
   "outputs": [],
   "source": [
    "idx = 2 * torch.arange(10)\n",
    "as_tensor = torch.tensor(frame.values, dtype=torch.float)\n",
    "logits = torch.log(as_tensor[..., idx] / as_tensor[..., idx + 1]).transpose(0, 1)\n",
    "mean = logits.mean(0)\n",
    "sample_covariance = (1/(logits.shape[0] - 1)) * (\n",
    "    (logits.unsqueeze(-1) - mean) * (logits.unsqueeze(-2) - mean)\n",
    ").sum(0)\n",
    "prior_covariance = sample_covariance + 0.01 * torch.eye(sample_covariance.shape[0])\n",
    "# prior_scale_tril = prior_covariance.cholesky()"
   ]
  },
  {
   "cell_type": "code",
   "execution_count": 5,
   "metadata": {},
   "outputs": [
    {
     "name": "stdout",
     "output_type": "stream",
     "text": [
      "       Max theta  Min theta\n",
      "State                      \n",
      "AL      0.520270   0.270133\n",
      "AK      0.531208   0.328617\n",
      "AZ      0.596407   0.318507\n",
      "AR      0.580075   0.211602\n",
      "CA      0.759051   0.455326\n",
      "CO      0.664190   0.386520\n",
      "CT      0.732970   0.425410\n",
      "DE      0.729813   0.443066\n",
      "DC      0.963292   0.856023\n",
      "FL      0.640957   0.367225\n",
      "GA      0.638424   0.291993\n",
      "HI      0.850761   0.529729\n",
      "ID      0.454923   0.234430\n",
      "IL      0.713572   0.445285\n",
      "IN      0.544537   0.355222\n",
      "IA      0.624781   0.432204\n",
      "KS      0.489936   0.296526\n",
      "KY      0.507059   0.275158\n",
      "LA      0.542533   0.293683\n",
      "ME      0.718350   0.425010\n",
      "MD      0.739448   0.512244\n",
      "MA      0.743183   0.474608\n",
      "MI      0.667361   0.422860\n",
      "MN      0.616234   0.460671\n",
      "MS      0.543425   0.345158\n",
      "MO      0.558177   0.350411\n",
      "MT      0.553832   0.313746\n",
      "NE      0.504112   0.284559\n",
      "NV      0.711678   0.347392\n",
      "NH      0.710745   0.338036\n",
      "NJ      0.732755   0.430012\n",
      "NM      0.679106   0.419590\n",
      "NY      0.770537   0.491388\n",
      "NC      0.601656   0.378692\n",
      "ND      0.534714   0.276910\n",
      "OH      0.611175   0.417984\n",
      "OK      0.463236   0.222962\n",
      "OR      0.667343   0.452185\n",
      "PA      0.611224   0.441842\n",
      "RI      0.755458   0.506061\n",
      "SC      0.575624   0.324953\n",
      "SD      0.529061   0.296841\n",
      "TN      0.521127   0.283983\n",
      "TX      0.527605   0.319357\n",
      "UT      0.377510   0.160109\n",
      "VT      0.834707   0.477753\n",
      "VA      0.631163   0.406190\n",
      "WA      0.694762   0.448333\n",
      "WV      0.520896   0.230384\n",
      "WI      0.620191   0.448042\n",
      "WY      0.425716   0.181377\n"
     ]
    }
   ],
   "source": [
    "std = prior_covariance.diag().sqrt()\n",
    "theoretical = pd.DataFrame({\"State\": frame.index, \n",
    "                            \"Min theta\": torch.sigmoid(prior_mean - 2 * std), \n",
    "                            \"Max theta\": torch.sigmoid(prior_mean + 2 * std)}).set_index(\"State\")\n",
    "print(theoretical)"
   ]
  },
  {
   "cell_type": "markdown",
   "metadata": {},
   "source": [
    "We are now in a position to define our Bayesian model."
   ]
  },
  {
   "cell_type": "code",
   "execution_count": 6,
   "metadata": {},
   "outputs": [],
   "source": [
    "from contextlib import ExitStack\n",
    "\n",
    "import pyro\n",
    "import pyro.distributions as dist\n",
    "from pyro.contrib.util import iter_plates_to_shape\n",
    "\n",
    "def model(polling_allocation):\n",
    "    with ExitStack() as stack:\n",
    "        for plate in iter_plates_to_shape(polling_allocation.shape[:-1]):\n",
    "            stack.enter_context(plate)\n",
    "        theta = pyro.sample(\"theta\", dist.MultivariateNormal(prior_mean, covariance_matrix=prior_covariance))\n",
    "        poll_results = pyro.sample(\"y\", dist.Binomial(polling_allocation, logits=theta).to_event(1))\n",
    "        dem_win_state = (theta > 0.).float()\n",
    "        dem_electoral_college_votes = ec_votes_tensor * dem_win_state\n",
    "        dem_win = (dem_electoral_college_votes.sum(-1) / ec_votes_tensor.sum(-1) > .5).float()\n",
    "        pyro.sample(\"w\", dist.Delta(dem_win))\n",
    "        return poll_results, dem_win, theta"
   ]
  },
  {
   "cell_type": "markdown",
   "metadata": {},
   "source": [
    "This Bayesian model implicitly defines our prior on `w`. We can investigate this prior by simulating many times from our prior."
   ]
  },
  {
   "cell_type": "code",
   "execution_count": 7,
   "metadata": {},
   "outputs": [
    {
     "name": "stdout",
     "output_type": "stream",
     "text": [
      "Prior probability of Dem win 0.6820499897003174\n"
     ]
    }
   ],
   "source": [
    "_, dem_wins, theta_samples = model(torch.ones(100000, 51))\n",
    "prior_w_prob = dem_wins.float().mean()\n",
    "print(\"Prior probability of Dem win\", prior_w_prob.item())"
   ]
  },
  {
   "cell_type": "code",
   "execution_count": 8,
   "metadata": {},
   "outputs": [
    {
     "name": "stdout",
     "output_type": "stream",
     "text": [
      "       Max theta  Min theta\n",
      "State                      \n",
      "AL      0.520311   0.269791\n",
      "AK      0.530513   0.328915\n",
      "AZ      0.596635   0.318673\n",
      "AR      0.579903   0.211147\n",
      "CA      0.759373   0.455628\n",
      "CO      0.664053   0.386787\n",
      "CT      0.733359   0.425516\n",
      "DE      0.730394   0.442656\n",
      "DC      0.963350   0.856323\n",
      "FL      0.641249   0.366919\n",
      "GA      0.638317   0.291988\n",
      "HI      0.850893   0.530289\n",
      "ID      0.454237   0.234732\n",
      "IL      0.713854   0.445665\n",
      "IN      0.544468   0.355457\n",
      "IA      0.624401   0.432674\n",
      "KS      0.489623   0.296642\n",
      "KY      0.506684   0.274921\n",
      "LA      0.542607   0.292954\n",
      "ME      0.718656   0.424806\n",
      "MD      0.740000   0.512300\n",
      "MA      0.743499   0.474790\n",
      "MI      0.667652   0.422804\n",
      "MN      0.615964   0.460667\n",
      "MS      0.543884   0.344770\n",
      "MO      0.557832   0.350520\n",
      "MT      0.553146   0.314306\n",
      "NE      0.503957   0.284748\n",
      "NV      0.711919   0.347889\n",
      "NH      0.711087   0.338131\n",
      "NJ      0.733169   0.430063\n",
      "NM      0.679300   0.419790\n",
      "NY      0.771032   0.491337\n",
      "NC      0.601695   0.378680\n",
      "ND      0.534496   0.277439\n",
      "OH      0.611284   0.418011\n",
      "OK      0.462771   0.222711\n",
      "OR      0.667150   0.452669\n",
      "PA      0.611309   0.441872\n",
      "RI      0.755589   0.505835\n",
      "SC      0.575945   0.324694\n",
      "SD      0.528722   0.297282\n",
      "TN      0.521079   0.283712\n",
      "TX      0.527322   0.319262\n",
      "UT      0.377336   0.160387\n",
      "VT      0.834817   0.478244\n",
      "VA      0.631352   0.406189\n",
      "WA      0.694843   0.448442\n",
      "WV      0.520693   0.229883\n",
      "WI      0.619886   0.448336\n",
      "WY      0.424891   0.181474\n"
     ]
    }
   ],
   "source": [
    "empirical = pd.DataFrame({\"State\": frame.index,\n",
    "                          \"Max theta\": torch.sigmoid(theta_samples.mean(0) + 2 * theta_samples.std(0)),\n",
    "                          \"Min theta\": torch.sigmoid(theta_samples.mean(0) - 2 * theta_samples.std(0))}\n",
    "                        ).set_index('State')\n",
    "print(empirical)"
   ]
  },
  {
   "cell_type": "markdown",
   "metadata": {},
   "source": [
    "We can also investigate which states, a priori, are most marginal."
   ]
  },
  {
   "cell_type": "code",
   "execution_count": 10,
   "metadata": {},
   "outputs": [
    {
     "name": "stdout",
     "output_type": "stream",
     "text": [
      "       Democrat win probability\n",
      "State                          \n",
      "FL                      0.52649\n",
      "NC                      0.42762\n",
      "NH                      0.61485\n",
      "OH                      0.62307\n",
      "VA                      0.63500\n",
      "NV                      0.64205\n",
      "CO                      0.65169\n",
      "GA                      0.33032\n",
      "IA                      0.72777\n",
      "PA                      0.73851\n",
      "AZ                      0.26130\n",
      "MI                      0.77793\n",
      "NM                      0.78657\n",
      "WI                      0.79131\n",
      "SC                      0.20636\n",
      "MO                      0.18254\n",
      "MN                      0.83985\n",
      "ME                      0.84559\n",
      "CT                      0.86021\n",
      "IN                      0.13881\n",
      "NJ                      0.87060\n",
      "OR                      0.87312\n",
      "MT                      0.12648\n",
      "MS                      0.12642\n",
      "WA                      0.88263\n",
      "AR                      0.11332\n",
      "IL                      0.89089\n",
      "DE                      0.89451\n",
      "LA                      0.08873\n",
      "AK                      0.07822\n",
      "CA                      0.92847\n",
      "TX                      0.06787\n",
      "ND                      0.06761\n",
      "SD                      0.06288\n",
      "MA                      0.95099\n",
      "TN                      0.04798\n",
      "AL                      0.04498\n",
      "WV                      0.04064\n",
      "VT                      0.96425\n",
      "KY                      0.03003\n",
      "NY                      0.96997\n",
      "NE                      0.02605\n",
      "RI                      0.98127\n",
      "MD                      0.98591\n",
      "KS                      0.01402\n",
      "HI                      0.98913\n",
      "OK                      0.00538\n",
      "ID                      0.00314\n",
      "WY                      0.00121\n",
      "UT                      0.00009\n",
      "DC                      1.00000\n"
     ]
    }
   ],
   "source": [
    "dem_prob = (theta_samples > 0.).float().mean(0)\n",
    "marginal = torch.argsort((dem_prob - .5).abs()).numpy()\n",
    "prior_prob_dem = pd.DataFrame({\"State\": frame.index[marginal],\n",
    "                               \"Democrat win probability\": dem_prob.numpy()[marginal]}).set_index('State')\n",
    "print(prior_prob_dem)"
   ]
  },
  {
   "cell_type": "markdown",
   "metadata": {},
   "source": [
    "This is a sanity check, and seems to accord with our intuitions. Since our prior is based on 2012 and the Democrats won in 2012, it makes sense that we would favour a Democrat win in 2016 (this is before we have seen *any* polling data or incorporated any other information). Florida is frequently an important swing state and is top of our list of marginal states under the prior. We can also see states such as Pennsylvania and Wisconsin near the top of the list -- we know that these were instrumental in the 2016 election. (This kind of posthoc analysis is, of course, very bad and only engaged in by immoral persons.)"
   ]
  },
  {
   "cell_type": "markdown",
   "metadata": {},
   "source": [
    "### Regional correlations\n",
    "\n",
    "Finally, we take a closer look at our prior covariance. Specifically, we examine states that we expect to be more or less correlated."
   ]
  },
  {
   "cell_type": "code",
   "execution_count": 11,
   "metadata": {},
   "outputs": [
    {
     "name": "stdout",
     "output_type": "stream",
     "text": [
      "State        ME        VT        NH        MA        RI        CT\n",
      "State                                                            \n",
      "ME     1.000000  0.817323  0.857351  0.800276  0.822024  0.825383\n",
      "VT     0.817323  1.000000  0.834723  0.716342  0.754026  0.844140\n",
      "NH     0.857351  0.834723  1.000000  0.871370  0.803803  0.873496\n",
      "MA     0.800276  0.716342  0.871370  1.000000  0.813665  0.835148\n",
      "RI     0.822024  0.754026  0.803803  0.813665  1.000000  0.849644\n",
      "CT     0.825383  0.844140  0.873496  0.835148  0.849644  1.000000\n"
     ]
    }
   ],
   "source": [
    "import numpy as np\n",
    "\n",
    "\n",
    "def correlation(cov):\n",
    "    return cov / np.sqrt(np.expand_dims(np.diag(cov.values), 0) * np.expand_dims(np.diag(cov.values), 1))\n",
    "                \n",
    "\n",
    "new_england_states = ['ME', 'VT', 'NH', 'MA', 'RI', 'CT']\n",
    "cov_as_frame = pd.DataFrame(prior_covariance.numpy(), columns=frame.index).set_index(frame.index)\n",
    "ne_cov = cov_as_frame.loc[new_england_states, new_england_states]\n",
    "ne_corr = correlation(ne_cov)\n",
    "print(ne_corr)"
   ]
  },
  {
   "cell_type": "code",
   "execution_count": 12,
   "metadata": {},
   "outputs": [
    {
     "name": "stdout",
     "output_type": "stream",
     "text": [
      "State        LA        MS        AL        GA        SC\n",
      "State                                                  \n",
      "LA     1.000000  0.554020  0.651511  0.523784  0.517672\n",
      "MS     0.554020  1.000000  0.699459  0.784371  0.769198\n",
      "AL     0.651511  0.699459  1.000000  0.829908  0.723015\n",
      "GA     0.523784  0.784371  0.829908  1.000000  0.852818\n",
      "SC     0.517672  0.769199  0.723015  0.852818  1.000000\n"
     ]
    }
   ],
   "source": [
    "southern_states = ['LA', 'MS', 'AL', 'GA', 'SC']\n",
    "southern_cov = cov_as_frame.loc[southern_states, southern_states]\n",
    "southern_corr = correlation(southern_cov)\n",
    "print(southern_corr)"
   ]
  },
  {
   "cell_type": "markdown",
   "metadata": {},
   "source": [
    "These correlation matrices show that, as expected, logical groupings of states tend to have similar voting trends."
   ]
  },
  {
   "cell_type": "code",
   "execution_count": 13,
   "metadata": {},
   "outputs": [
    {
     "name": "stdout",
     "output_type": "stream",
     "text": [
      "State        LA        MS        AL        GA        SC\n",
      "State                                                  \n",
      "ME     0.329438  0.309352 -0.000534  0.122375  0.333679\n",
      "VT    -0.036079  0.009653 -0.366604 -0.202065  0.034438\n",
      "NH     0.234105  0.146826 -0.105781  0.008411  0.233084\n",
      "MA     0.338411  0.122257 -0.059107 -0.025730  0.182290\n",
      "RI     0.314088  0.188819 -0.066307 -0.022142  0.186955\n",
      "CT     0.139021  0.074646 -0.205797 -0.107684  0.125023\n"
     ]
    }
   ],
   "source": [
    "cross_cov = cov_as_frame.loc[new_england_states + southern_states, new_england_states + southern_states]\n",
    "cross_corr = correlation(cross_cov)\n",
    "print(cross_corr.loc[new_england_states, southern_states])"
   ]
  },
  {
   "cell_type": "markdown",
   "metadata": {},
   "source": [
    "Finally, to check the data that led to these values, here is a scatter plot comparing Alabama with 1) South Carolina, 2) Connecticut"
   ]
  },
  {
   "cell_type": "code",
   "execution_count": 16,
   "metadata": {},
   "outputs": [
    {
     "data": {
      "image/png": "[encoded data removed]",
      "text/plain": [
       "<Figure size 432x288 with 1 Axes>"
      ]
     },
     "metadata": {
      "needs_background": "light"
     },
     "output_type": "display_data"
    }
   ],
   "source": [
    "import matplotlib.pyplot as plt\n",
    "\n",
    "data = (logits - mean)[...,[0,6,40]].numpy()\n",
    "x, y = data[..., 0], data[..., 2]\n",
    "plt.scatter(x, y)\n",
    "plt.xlabel(\"AL\")\n",
    "plt.ylabel(\"SC\")\n",
    "plt.show()"
   ]
  },
  {
   "cell_type": "code",
   "execution_count": 15,
   "metadata": {},
   "outputs": [
    {
     "data": {
      "image/png": "[encoded data removed]",
      "text/plain": [
       "<Figure size 432x288 with 1 Axes>"
      ]
     },
     "metadata": {
      "needs_background": "light"
     },
     "output_type": "display_data"
    }
   ],
   "source": [
    "x, y = data[..., 0], data[..., 1]\n",
    "plt.scatter(x, y)\n",
    "plt.xlabel(\"AL\")\n",
    "plt.ylabel(\"CT\")\n",
    "plt.show()"
   ]
  },
  {
   "cell_type": "markdown",
   "metadata": {},
   "source": [
    "## Measuring the expected information gain of a polling strategy\n",
    "The prior we have set up appears to accord, at least approximately, with intuition. However, we now want to add a second source of information from polling. We aim to use our prior to select a polling strategy that will be most informative about our target $w$. A polling strategy, in this simplified set-up, is the number of people to poll in each state. (We ignore any other covariates such as regional variation inside states, demographics, etc.) We might imagine that polling 1000 people in Florida (the most marginal state), will be much more effective than polling 1000 people in Hawaii (the least marginal state). That's because the outcome in Hawaii is already quite predictable, just based on our prior, whereas the outcome in Florida is really up for grabs.\n",
    "\n",
    "In fact, the information that our model will gain about $w$ based on conducting a poll with design $d$ and getting outcome $y$ can be described mathematically as follows:\n",
    "\n",
    "$$\\text(IG)(d, y) = KL(p(w|y,d)||p(w))$$\n",
    "\n",
    "Since the outcome of the poll is at present unknown, we consider the expected information gain\n",
    "\n",
    "$$\\text{EIG}(d) = \\mathbb{E}_{p(y|d)}\\quad[KL(p(w|y,d)||p(w))]$$.\n",
    "\n",
    "To estimate the EIG, we make use of the following variational representation\n",
    "\n",
    "$$\\text{EIG}(d) = \\max_q \\mathbb{E}_{p(w, y|d)}\\quad\\left[\\log q(w|y,d) \\right] + H(p(w))$$\n",
    "\n",
    "What is $q$? It is a machine that takes as input $y$ and outputs a distribution over $w$. Since $w$ is a binary random variable, we can think of $q$ as a classifier that tries to decide, based on the poll outcome, who the eventual winner of the election will be. In this notebook, $q$ will be a neural classifier."
   ]
  },
  {
   "cell_type": "code",
   "execution_count": 17,
   "metadata": {},
   "outputs": [],
   "source": [
    "from torch import nn\n",
    "\n",
    "class OutcomePredictor(nn.Module):\n",
    "    \n",
    "    def __init__(self):\n",
    "        super().__init__()\n",
    "        self.lin1 = nn.Linear(51, 256)\n",
    "        self.lin2 = nn.Linear(256, 256)\n",
    "        self.lin3 = nn.Linear(256, 1)\n",
    "        \n",
    "    def compute_dem_probability(self, y):\n",
    "        y = nn.functional.relu(self.lin1(y))\n",
    "        y = nn.functional.relu(self.lin2(y))\n",
    "        return self.lin3(y)\n",
    "    \n",
    "    def forward(self, y_dict, design, observation_labels, target_labels):\n",
    "\n",
    "        pyro.module(\"posterior_guide\", self)\n",
    "        \n",
    "        y = y_dict[\"y\"]\n",
    "        dem_prob = self.compute_dem_probability(y).squeeze()\n",
    "        pyro.sample(\"w\", dist.Bernoulli(logits=dem_prob))"
   ]
  },
  {
   "cell_type": "code",
   "execution_count": 18,
   "metadata": {},
   "outputs": [],
   "source": [
    "poll_in_florida = torch.zeros(51)\n",
    "poll_in_florida[9] = 1000"
   ]
  },
  {
   "cell_type": "code",
   "execution_count": 19,
   "metadata": {},
   "outputs": [],
   "source": [
    "from pyro.contrib.oed.eig import posterior_eig\n",
    "from pyro.optim import Adam\n",
    "\n",
    "pyro.clear_param_store()\n",
    "guide = OutcomePredictor()\n",
    "ape_florida = posterior_eig(model, poll_in_florida, \"y\", \"w\", 10, 10000, guide, \n",
    "                            Adam({\"lr\": 0.001}), eig=False, final_num_samples=10000)"
   ]
  },
  {
   "cell_type": "code",
   "execution_count": 20,
   "metadata": {},
   "outputs": [
    {
     "name": "stdout",
     "output_type": "stream",
     "text": [
      "FL EIG 0.21216106414794922\n"
     ]
    }
   ],
   "source": [
    "def h(p):\n",
    "    return -p*p.log() - (1-p)*(1-p).log()\n",
    "\n",
    "prior_entropy = h(prior_w_prob)\n",
    "eig_florida = prior_entropy - ape_florida\n",
    "print(\"FL EIG\", eig_florida.item())"
   ]
  },
  {
   "cell_type": "code",
   "execution_count": 21,
   "metadata": {},
   "outputs": [],
   "source": [
    "poll_in_hawaii = torch.zeros(51)\n",
    "poll_in_hawaii[11] = 1000"
   ]
  },
  {
   "cell_type": "code",
   "execution_count": 22,
   "metadata": {},
   "outputs": [],
   "source": [
    "pyro.clear_param_store()\n",
    "ape_hawaii = posterior_eig(model, poll_in_hawaii, \"y\", \"w\", 10, 10000, guide, \n",
    "                           Adam({\"lr\": 0.001}), eig=False, final_num_samples=10000)"
   ]
  },
  {
   "cell_type": "code",
   "execution_count": 23,
   "metadata": {},
   "outputs": [
    {
     "name": "stdout",
     "output_type": "stream",
     "text": [
      "HI EIG 0.1015428900718689\n"
     ]
    }
   ],
   "source": [
    "print(\"HI EIG\", (prior_entropy - ape_hawaii).item())"
   ]
  },
  {
   "cell_type": "code",
   "execution_count": 24,
   "metadata": {},
   "outputs": [
    {
     "name": "stdout",
     "output_type": "stream",
     "text": [
      "Theoretical maximum EIG 0.6253145933151245\n"
     ]
    }
   ],
   "source": [
    "print(\"Theoretical maximum EIG\", prior_entropy.item())"
   ]
  },
  {
   "cell_type": "markdown",
   "metadata": {},
   "source": [
    "Already we have established that it's better to do all our polling in Florida than in Hawaii."
   ]
  },
  {
   "cell_type": "code",
   "execution_count": 25,
   "metadata": {},
   "outputs": [],
   "source": [
    "uniform_poll = 19 * torch.ones(51)\n",
    "\n",
    "pyro.clear_param_store()\n",
    "ape_uniform = posterior_eig(model, uniform_poll, \"y\", \"w\", 10, 10000, guide, \n",
    "                            Adam({\"lr\": 0.001}), eig=False, final_num_samples=10000)"
   ]
  },
  {
   "cell_type": "code",
   "execution_count": 27,
   "metadata": {},
   "outputs": [
    {
     "name": "stdout",
     "output_type": "stream",
     "text": [
      "Uniform EIG 0.2571486830711365\n"
     ]
    }
   ],
   "source": [
    "print(\"Uniform EIG\", (prior_entropy - ape_uniform).item())"
   ]
  },
  {
   "cell_type": "markdown",
   "metadata": {},
   "source": [
    "This is surprisingly high: we have almost halved our uncertainty by polling just 19 people per state. (19 = 1000 / 51)"
   ]
  },
  {
   "cell_type": "markdown",
   "metadata": {},
   "source": [
    "## Running the experiment\n",
    "To run the experiment, we sample a polling outcome using the probabilities implied by the actual results from the 2016 election.\n"
   ]
  },
  {
   "cell_type": "code",
   "execution_count": 31,
   "metadata": {},
   "outputs": [
    {
     "name": "stdout",
     "output_type": "stream",
     "text": [
      "tensor([-0.5916, -0.3386, -0.0756, -0.5878,  0.6690,  0.1074,  0.2876,  0.2411,\n",
      "         3.1014, -0.0248, -0.1065,  0.7282, -0.7681,  0.3648, -0.4104, -0.2032,\n",
      "        -0.4520, -0.6487, -0.4126,  0.0639,  0.5761,  0.6037, -0.0047,  0.0333,\n",
      "        -0.3677, -0.3979, -0.4519, -0.5558,  0.0518,  0.0079,  0.2935,  0.1866,\n",
      "         0.4799, -0.0762, -0.8382, -0.1711, -0.8144,  0.2475, -0.0150,  0.3355,\n",
      "        -0.3007, -0.6620, -0.5591, -0.1891, -0.5059,  0.6272,  0.1132,  0.3552,\n",
      "        -0.9525, -0.0163, -1.1366])\n"
     ]
    }
   ],
   "source": [
    "test_data = pd.read_pickle(\"us_presidential_election_data_test.pickle\")\n",
    "results_2016 = torch.tensor(test_data.values, dtype=torch.float)\n",
    "true_theta = torch.log(results_2016[..., 0] / results_2016[..., 1])\n",
    "print(true_theta)"
   ]
  },
  {
   "cell_type": "code",
   "execution_count": 34,
   "metadata": {},
   "outputs": [],
   "source": [
    "conditioned_model = pyro.condition(model, data={\"theta\": true_theta})\n",
    "y, _, _ = conditioned_model(uniform_poll.expand(10000, 51))"
   ]
  },
  {
   "cell_type": "markdown",
   "metadata": {},
   "source": [
    "Under these 10000 hypothetical outcomes of running that same poll, how many times would our $q$ network have gone on to predict the correct electoral outcome?"
   ]
  },
  {
   "cell_type": "code",
   "execution_count": 36,
   "metadata": {},
   "outputs": [
    {
     "data": {
      "text/plain": [
       "tensor(0.6754)"
      ]
     },
     "execution_count": 36,
     "metadata": {},
     "output_type": "execute_result"
    }
   ],
   "source": [
    "(guide.compute_dem_probability(y) < 0.).float().mean()"
   ]
  },
  {
   "cell_type": "markdown",
   "metadata": {},
   "source": [
    "This suggests that with just 1000 accurate poll records, we may have begun to predict the outcome of the 2016 election with some confidence."
   ]
  }
 ],
 "metadata": {
  "kernelspec": {
   "display_name": "Python 3",
   "language": "python",
   "name": "python3"
  },
  "language_info": {
   "codemirror_mode": {
    "name": "ipython",
    "version": 3
   },
   "file_extension": ".py",
   "mimetype": "text/x-python",
   "name": "python",
   "nbconvert_exporter": "python",
   "pygments_lexer": "ipython3",
   "version": "3.5.2"
  }
 },
 "nbformat": 4,
 "nbformat_minor": 2
}
