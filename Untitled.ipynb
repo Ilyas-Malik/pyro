{
 "cells": [
  {
   "cell_type": "code",
   "execution_count": 6,
   "metadata": {},
   "outputs": [],
   "source": [
    "import os\n",
    "import time\n",
    "from tensorboardX import SummaryWriter\n",
    "import numpy as np\n",
    "import pandas as pd\n",
    "import itertools\n",
    "import torch\n",
    "import torch.nn as nn\n",
    "import pickle\n",
    "import matplotlib.pyplot as plt\n",
    "\n",
    "from torch.utils.data import TensorDataset, DataLoader\n",
    "\n",
    "from tqdm import tqdm_notebook"
   ]
  },
  {
   "cell_type": "code",
   "execution_count": 2,
   "metadata": {},
   "outputs": [
    {
     "ename": "NameError",
     "evalue": "name 'pickle' is not defined",
     "output_type": "error",
     "traceback": [
      "\u001b[0;31m---------------------------------------------------------------------------\u001b[0m",
      "\u001b[0;31mNameError\u001b[0m                                 Traceback (most recent call last)",
      "\u001b[0;32m<ipython-input-2-7a954772b00b>\u001b[0m in \u001b[0;36m<module>\u001b[0;34m\u001b[0m\n\u001b[1;32m      8\u001b[0m \u001b[0;34m\u001b[0m\u001b[0m\n\u001b[1;32m      9\u001b[0m \u001b[0;32mwith\u001b[0m \u001b[0mopen\u001b[0m\u001b[0;34m(\u001b[0m\u001b[0mdata_dir\u001b[0m \u001b[0;34m+\u001b[0m \u001b[0;34m'ys'\u001b[0m \u001b[0;34m+\u001b[0m \u001b[0mdata_file\u001b[0m\u001b[0;34m,\u001b[0m \u001b[0;34m'rb'\u001b[0m\u001b[0;34m)\u001b[0m \u001b[0;32mas\u001b[0m \u001b[0mf\u001b[0m\u001b[0;34m:\u001b[0m\u001b[0;34m\u001b[0m\u001b[0;34m\u001b[0m\u001b[0m\n\u001b[0;32m---> 10\u001b[0;31m     \u001b[0mys\u001b[0m \u001b[0;34m=\u001b[0m \u001b[0mpickle\u001b[0m\u001b[0;34m.\u001b[0m\u001b[0mload\u001b[0m\u001b[0;34m(\u001b[0m\u001b[0mf\u001b[0m\u001b[0;34m)\u001b[0m\u001b[0;34m\u001b[0m\u001b[0;34m\u001b[0m\u001b[0m\n\u001b[0m\u001b[1;32m     11\u001b[0m \u001b[0;32mwith\u001b[0m \u001b[0mopen\u001b[0m\u001b[0;34m(\u001b[0m\u001b[0mdata_dir\u001b[0m \u001b[0;34m+\u001b[0m \u001b[0;34m'ds'\u001b[0m \u001b[0;34m+\u001b[0m \u001b[0mdata_file\u001b[0m\u001b[0;34m,\u001b[0m \u001b[0;34m'rb'\u001b[0m\u001b[0;34m)\u001b[0m \u001b[0;32mas\u001b[0m \u001b[0mf\u001b[0m\u001b[0;34m:\u001b[0m\u001b[0;34m\u001b[0m\u001b[0;34m\u001b[0m\u001b[0m\n\u001b[1;32m     12\u001b[0m     \u001b[0mds\u001b[0m \u001b[0;34m=\u001b[0m \u001b[0mpickle\u001b[0m\u001b[0;34m.\u001b[0m\u001b[0mload\u001b[0m\u001b[0;34m(\u001b[0m\u001b[0mf\u001b[0m\u001b[0;34m)\u001b[0m\u001b[0;34m\u001b[0m\u001b[0;34m\u001b[0m\u001b[0m\n",
      "\u001b[0;31mNameError\u001b[0m: name 'pickle' is not defined"
     ]
    }
   ],
   "source": [
    "# Define data root directory\n",
    "name = \"custom prior less steps\" # To change to match data\n",
    "\n",
    "data_dir = \"./run_outputs/regression_rollout/\"\n",
    "data_file = name + \".result_stream.pickle\"\n",
    "\n",
    "#### Creating the Dataset\n",
    "\n",
    "with open(data_dir + 'ys' + data_file, 'rb') as f:\n",
    "    ys = pickle.load(f)\n",
    "with open(data_dir + 'ds' + data_file, 'rb') as f:\n",
    "    ds = pickle.load(f)\n",
    "n_data, seq_len, n = ys.shape\n",
    "output_dim = ds.shape[-1]\n",
    "input_dim = n\n",
    "p = output_dim//n\n",
    "\n",
    "# ys and ds are inputs and outputs\n"
   ]
  },
  {
   "cell_type": "code",
   "execution_count": 3,
   "metadata": {},
   "outputs": [],
   "source": [
    "class GRUNet(nn.Module):\n",
    "    def __init__(self, input_dim, output_dim, hidden_dim, n_layers, drop_prob=.0,\n",
    "                 writer_dir = f\"{int(time.time())}\"):\n",
    "        super(GRUNet, self).__init__()\n",
    "        self.hidden_dim = hidden_dim\n",
    "        self.n_layers = n_layers\n",
    "\n",
    "        self.gru = nn.GRU(input_dim, hidden_dim, n_layers, batch_first=True, dropout=drop_prob)\n",
    "        self.relu = nn.ReLU()\n",
    "        self.fc = nn.Linear(hidden_dim, output_dim)\n",
    "        self.counter = 0\n",
    "        self.s_epoch = 1\n",
    "        self.writer = SummaryWriter(\"./run_outputs/regression_board/\" + writer_dir)\n",
    "    def init_hidden(self, batch_size):\n",
    "        weight = next(self.parameters()).data\n",
    "        hidden = weight.new(self.n_layers, batch_size, self.hidden_dim).zero_().to(device)\n",
    "        return hidden\n",
    "\n",
    "    def forward(self, x, h):\n",
    "        assert len(x.size()) == 3, '[GRU]: Input dimension must be of length 3 i.e. [MxSxN]' # M: Batch Size(if batch first), S: Seq Lenght, N: Number of features\n",
    "        out, h = self.gru(x, h)\n",
    "        out = self.fc(self.relu(out))\n",
    "        return out, h\n"
   ]
  },
  {
   "cell_type": "code",
   "execution_count": 4,
   "metadata": {},
   "outputs": [],
   "source": [
    "def train(model, batch_size, learn_rate=.001, EPOCHS=5, counter_write = 50, ytrain = ys, dtrain = ds,\n",
    "          yval = None, dval = None):\n",
    "    validate = (yval != None)\n",
    "    # Defining loss function and optimizer\n",
    "    n_train = ytrain.shape[0]\n",
    "    if validate:\n",
    "        n_val = yval.shape[0]\n",
    "        assert n_train == dtrain.shape[0] and n_val == dval.shape[0],\\\n",
    "            'Sizes of inputs and outputs must match'\n",
    "    criterion = nn.MSELoss()\n",
    "    optimizer = torch.optim.Adam(model.parameters(), lr=learn_rate)\n",
    "    writer = model.writer\n",
    "    model.train()\n",
    "    print(\"Starting Training\")\n",
    "    epoch_times = []\n",
    "    epoch_loss = []\n",
    "    batch_loss = []\n",
    "    total_val_loss = []\n",
    "    # Start training loop\n",
    "    s_epoch = model.s_epoch\n",
    "    for epoch in range(s_epoch, EPOCHS + s_epoch):\n",
    "        permutation = torch.randperm(n_train)\n",
    "        start_time = time.clock()\n",
    "        for i in range(0, n_train, batch_size):\n",
    "            if i+batch_size > n_train:\n",
    "                continue\n",
    "            h = model.init_hidden(batch_size)\n",
    "            indices = permutation[i:i + batch_size]\n",
    "            y_batch = ytrain[indices]\n",
    "            d_batch = dtrain[indices]\n",
    "            model.counter += 1\n",
    "            model.zero_grad()\n",
    "            out, _ = model(y_batch.to(device).float(), h)\n",
    "            loss = criterion(out, d_batch.to(device).float())\n",
    "            loss.backward()\n",
    "            optimizer.step()\n",
    "            if model.counter % counter_write == 0:\n",
    "                batch_loss.append(loss)\n",
    "                writer.add_scalar('Loss/Train/Batch', loss, model.counter)\n",
    "#                print(\"Epoch {}...Step: {}... Batch Loss: {}\".format(epoch, model.counter, loss))\n",
    "        current_time = time.clock()\n",
    "        train_h = model.init_hidden(n_train)\n",
    "        train_out, _ = model(ytrain.to(device).float(), train_h)\n",
    "        train_loss = criterion(train_out, dtrain.to(device).float())\n",
    "        writer.add_scalar('Loss/Train/Total', train_loss, epoch)\n",
    "        print(\"Epoch {}/{} Done, Total Loss: {:.5f}\".format(epoch, EPOCHS, train_loss))\n",
    "        epoch_loss.append(train_loss)\n",
    "        if validate:\n",
    "            val_h = model.init_hidden(n_val)\n",
    "            val_out, _ = model(yval.to(device).float(), val_h)\n",
    "            val_loss = criterion(val_out, dval.to(device).float())\n",
    "            writer.add_scalar('Loss/Val/Total', val_loss, epoch)\n",
    "            total_val_loss.append(val_loss)\n",
    "        print(\"Total Time Elapsed: {:.3f} seconds\".format(current_time - start_time))\n",
    "        epoch_times.append(current_time - start_time)\n",
    "        writer.add_scalar('Time_per_epoch', current_time - start_time, epoch)\n",
    "        model.s_epoch += 1\n",
    "    print(\"Total Training Time: {:.3f} seconds\".format(sum(epoch_times)))\n",
    "    writer.close()\n",
    "    return epoch_loss, epoch_times, batch_loss, total_val_loss\n"
   ]
  },
  {
   "cell_type": "code",
   "execution_count": 5,
   "metadata": {},
   "outputs": [],
   "source": [
    "def evaluate(model, test_x, test_y, label_scalers):\n",
    "    model.eval()\n",
    "    outputs = []\n",
    "    targets = []\n",
    "    start_time = time.clock()\n",
    "    for i in test_x.keys():\n",
    "        inp = torch.from_numpy(np.array(test_x[i]))\n",
    "        labs = torch.from_numpy(np.array(test_y[i]))\n",
    "        h = model.init_hidden(inp.shape[0])\n",
    "        out, h = model(inp.to(device).float(), h)\n",
    "        outputs.append(label_scalers[i].inverse_transform(out.cpu().detach().numpy()).reshape(-1))\n",
    "        targets.append(label_scalers[i].inverse_transform(labs.numpy()).reshape(-1))\n",
    "    print(\"Evaluation Time: {}\".format(str(time.clock() - start_time)))\n",
    "    sMAPE = 0\n",
    "    for i in range(len(outputs)):\n",
    "        sMAPE += np.mean(abs(outputs[i] - targets[i]) / (targets[i] + outputs[i]) / 2) / len(outputs)\n",
    "    print(\"sMAPE: {}%\".format(sMAPE * 100))\n",
    "    return outputs, targets, sMAPE"
   ]
  },
  {
   "cell_type": "code",
   "execution_count": 6,
   "metadata": {},
   "outputs": [],
   "source": [
    "is_cuda = torch.cuda.is_available()\n",
    "if is_cuda:\n",
    "    device = torch.device(\"cuda\")\n",
    "else:\n",
    "    device = torch.device(\"cpu\")"
   ]
  },
  {
   "cell_type": "code",
   "execution_count": 7,
   "metadata": {},
   "outputs": [],
   "source": [
    "test_prop = .15\n",
    "val_prop = .15\n",
    "\n",
    "i_test = int(test_prop*n_data)\n",
    "i_val = int((val_prop+test_prop)*n_data)\n",
    "permutation = torch.randperm(n_data)\n",
    "test_ind = permutation[:i_test]\n",
    "val_ind = permutation[i_test:i_val]\n",
    "train_ind = permutation[i_val:]\n",
    "ytest, dtest = ys[test_ind], ds[test_ind]\n",
    "yval, dval = ys[val_ind], ds[val_ind]\n",
    "ytrain, dtrain = ys[train_ind], ds[train_ind]"
   ]
  },
  {
   "cell_type": "code",
   "execution_count": 8,
   "metadata": {},
   "outputs": [
    {
     "data": {
      "text/plain": [
       "(torch.Size([1475, 10, 2]), torch.Size([316, 10, 2]), torch.Size([315, 10, 2]))"
      ]
     },
     "execution_count": 8,
     "metadata": {},
     "output_type": "execute_result"
    }
   ],
   "source": [
    "ytrain.shape, yval.shape, ytest.shape"
   ]
  },
  {
   "cell_type": "code",
   "execution_count": 9,
   "metadata": {},
   "outputs": [],
   "source": [
    "hidden_dim = 32\n",
    "num_layers = 2\n",
    "\n",
    "batch_size = 16\n",
    "lr = .0005\n",
    "EPOCHS = 5\n",
    "drop = 0\n",
    "counter_write = 30\n",
    "writer_dir = \"LR{} B{} L{} H{} T{} final\".format(lr, batch_size, num_layers, hidden_dim,\n",
    "                                           int(time.time()) % 10000)\n",
    "model = GRUNet(input_dim, output_dim, hidden_dim, num_layers, drop, writer_dir)"
   ]
  },
  {
   "cell_type": "code",
   "execution_count": 10,
   "metadata": {},
   "outputs": [],
   "source": [
    "overall_val_loss = []\n",
    "overall_epoch_loss = []"
   ]
  },
  {
   "cell_type": "code",
   "execution_count": 11,
   "metadata": {},
   "outputs": [
    {
     "name": "stdout",
     "output_type": "stream",
     "text": [
      "Starting Training\n"
     ]
    },
    {
     "name": "stderr",
     "output_type": "stream",
     "text": [
      "/Users/ilyasmalik/opt/anaconda3/lib/python3.7/site-packages/ipykernel_launcher.py:23: DeprecationWarning: time.clock has been deprecated in Python 3.3 and will be removed from Python 3.8: use time.perf_counter or time.process_time instead\n",
      "/Users/ilyasmalik/opt/anaconda3/lib/python3.7/site-packages/ipykernel_launcher.py:41: DeprecationWarning: time.clock has been deprecated in Python 3.3 and will be removed from Python 3.8: use time.perf_counter or time.process_time instead\n"
     ]
    },
    {
     "name": "stdout",
     "output_type": "stream",
     "text": [
      "Epoch 1/5 Done, Total Loss: 34.10998\n",
      "Total Time Elapsed: 2.237 seconds\n",
      "Epoch 2/5 Done, Total Loss: 33.01554\n",
      "Total Time Elapsed: 2.272 seconds\n",
      "Epoch 3/5 Done, Total Loss: 31.62063\n",
      "Total Time Elapsed: 2.241 seconds\n",
      "Epoch 4/5 Done, Total Loss: 30.95436\n",
      "Total Time Elapsed: 2.128 seconds\n",
      "Epoch 5/5 Done, Total Loss: 30.61913\n",
      "Total Time Elapsed: 2.296 seconds\n",
      "Total Training Time: 11.174 seconds\n"
     ]
    }
   ],
   "source": [
    "epoch_loss, epoch_times, batch_loss, total_val_loss =\\\n",
    "    train(model, batch_size, lr, EPOCHS, counter_write, ytrain, dtrain, yval, dval)\n",
    "overall_val_loss.extend(total_val_loss)\n",
    "overall_epoch_loss.extend(epoch_loss)"
   ]
  },
  {
   "cell_type": "code",
   "execution_count": 16,
   "metadata": {},
   "outputs": [],
   "source": [
    "b = np.array(overall_epoch_loss)"
   ]
  },
  {
   "cell_type": "code",
   "execution_count": 17,
   "metadata": {},
   "outputs": [
    {
     "data": {
      "text/plain": [
       "array([tensor(33.9624, grad_fn=<MseLossBackward>),\n",
       "       tensor(32.8357, grad_fn=<MseLossBackward>),\n",
       "       tensor(31.6871, grad_fn=<MseLossBackward>),\n",
       "       tensor(31.1116, grad_fn=<MseLossBackward>),\n",
       "       tensor(30.7708, grad_fn=<MseLossBackward>)], dtype=object)"
      ]
     },
     "execution_count": 17,
     "metadata": {},
     "output_type": "execute_result"
    }
   ],
   "source": [
    "b"
   ]
  },
  {
   "cell_type": "code",
   "execution_count": null,
   "metadata": {},
   "outputs": [],
   "source": [
    "sns.lineplot([1,2],[2,3])"
   ]
  },
  {
   "cell_type": "code",
   "execution_count": null,
   "metadata": {},
   "outputs": [],
   "source": [
    "plt.plot(overall_val_loss)\n",
    "plt.plot(overall_epoch_loss)"
   ]
  },
  {
   "cell_type": "code",
   "execution_count": null,
   "metadata": {},
   "outputs": [],
   "source": []
  }
 ],
 "metadata": {
  "kernelspec": {
   "display_name": "Python 3",
   "language": "python",
   "name": "python3"
  },
  "language_info": {
   "codemirror_mode": {
    "name": "ipython",
    "version": 3
   },
   "file_extension": ".py",
   "mimetype": "text/x-python",
   "name": "python",
   "nbconvert_exporter": "python",
   "pygments_lexer": "ipython3",
   "version": "3.7.6"
  }
 },
 "nbformat": 4,
 "nbformat_minor": 4
}
